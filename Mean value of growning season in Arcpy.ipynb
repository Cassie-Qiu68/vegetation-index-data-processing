{
 "cells": [
  {
   "cell_type": "code",
   "execution_count": null,
   "metadata": {},
   "outputs": [],
   "source": [
    "###run in Arcpy in ArcMAP\n",
    "###calculate mean value for raster of growning season\n",
    "\n",
    "import arcpy\n",
    "import time\n",
    "arcpy.CheckOutExtension(\"spatial\")\n",
    "time1=time.strftime('%y-%m-%d-%H:%M:%S')\n",
    "Sname1=\"D:\\\\Grassland\\\\Data\\\\PDSI\\\\\"   ## foldername\n",
    "Sname2=\".tif\"  ##fixed part of the file name\n",
    "for  i in range(2001,2019):\n",
    "    a4 = Sname1+str(i)+\"4\"+Sname2\n",
    "    a5 = Sname1+str(i)+\"5\"+Sname2\n",
    "    a6 = Sname1+str(i)+\"6\"+Sname2\n",
    "    a7 = Sname1+str(i)+\"7\"+Sname2\n",
    "    a8 = Sname1+str(i)+\"8\"+Sname2\n",
    "    a9 = Sname1+str(i)+\"9\"+Sname2\n",
    "    out=\"D:\\\\Grassland\\\\Data\\\\PDSI\\\\Year_ave\\\\\"+str(i)+\".tif\"\n",
    "    print out +\" is being .........\"\n",
    "    arcpy.gp.CellStatistics_sa((a4,a5,a6,a7,a8,a9) ,out, \"MEAN\", \"DATA\")\n",
    "    print out +\" has done..........\"\n",
    "    print \"-------------------------------------------------------\"\n",
    "print \"<----------All are done !!!---------->\"\n",
    "print \"Start time : \"+time1\n",
    "print \"End   time : \"+time.strftime('%y-%m-%d-%H:%M:%S')"
   ]
  }
 ],
 "metadata": {
  "kernelspec": {
   "display_name": "Python 3",
   "language": "python",
   "name": "python3"
  },
  "language_info": {
   "codemirror_mode": {
    "name": "ipython",
    "version": 3
   },
   "file_extension": ".py",
   "mimetype": "text/x-python",
   "name": "python",
   "nbconvert_exporter": "python",
   "pygments_lexer": "ipython3",
   "version": "3.8.3"
  }
 },
 "nbformat": 4,
 "nbformat_minor": 4
}
