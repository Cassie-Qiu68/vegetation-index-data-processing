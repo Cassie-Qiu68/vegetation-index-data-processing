{
 "cells": [
  {
   "cell_type": "code",
   "execution_count": null,
   "metadata": {},
   "outputs": [],
   "source": [
    "######coding for batch reclass \n",
    "###primary datasets is ESA lCC\n",
    "##import lib\n",
    "import arcpy\n",
    "from arcpy import env  \n",
    "from arcpy.sa import *\n",
    "\n",
    "##file location and name\n",
    "Sname1=\"D:\\\\Grassland\\\\Data_new\\\\1_lulc\\\\prj_nest\\\\n_prjlucc\"  ##should be replaced\n",
    "Sname2=\".tif\"\n",
    "\n",
    "##循环读取与输入\n",
    "for year in range(1999,2019):\n",
    "    Year=str(year)\n",
    "    print(Sname1+Year+Sname2)\n",
    "    out=\"D:\\\\Grassland\\\\Data_new\\\\1_lulc\\\\rcl\\\\rcl\"+Year+\".tif\"  ##should be replaced\n",
    "    print out + \"is being...\"\n",
    "    \n",
    "    #执行重分类\n",
    "    outReclass=Reclassify((Sname1+Year+Sname2), \"Value\", \n",
    "                         RemapValue([[10,10],[11,10],[12,10],[20,20],[30,30],[40,40],[50,50],[60,60],[61,60],[62,60],[70,70],[80,80],[90,90],[100,100],[110,110],[120,120],[121,120],[122,120],[130,130],[140,140],[150,150],[152,150],[160,160],[170,170],[180,180],[190,190],[200,200],[201,200],[202,200],[210,210]]))\n",
    "    outReclass.save(out)\n",
    "print  \"<----------All are done !!!---------->\"\n",
    "\n",
    "####simply reclassfy\n",
    "import arcpy\n",
    "from arcpy import env  \n",
    "from arcpy.sa import *\n",
    "\n",
    "##file location and name\n",
    "Sname1=\"D:\\\\Grassland\\\\Data_new\\\\1_lulc\\\\rcl\\\\rcl\"  ##should be replaced\n",
    "Sname2=\".tif\"\n",
    "\n",
    "##循环读取与输入\n",
    "for year in range(1999,2019):\n",
    "    Year=str(year)\n",
    "    print(Sname1+Year+Sname2)\n",
    "    out=\"D:\\\\Grassland\\\\Data_new\\\\1_lulc\\\\rcl2\\\\2rcl\"+Year+\".tif\"  ##should be replaced\n",
    "    print out + \"is being...\"\n",
    "    \n",
    "    #执行重分类\n",
    "    outReclass=Reclassify((Sname1+Year+Sname2), \"Value\", \n",
    "                         RemapValue([[10,4],[20,4],[30,5],[40,5],[50,1],[60,1],[70,1],[80,1],[90,1],[100,2],[110,3],[120,2],[130,3],[140,3],[150,3],[160,1],[170,1],[180,2],[190,6],[200,6],[210,6]]))\n",
    "    outReclass.save(out)\n",
    "print  \"<----------All are done !!!---------->\""
   ]
  }
 ],
 "metadata": {
  "kernelspec": {
   "display_name": "Python 3",
   "language": "python",
   "name": "python3"
  },
  "language_info": {
   "codemirror_mode": {
    "name": "ipython",
    "version": 3
   },
   "file_extension": ".py",
   "mimetype": "text/x-python",
   "name": "python",
   "nbconvert_exporter": "python",
   "pygments_lexer": "ipython3",
   "version": "3.8.3"
  }
 },
 "nbformat": 4,
 "nbformat_minor": 4
}
